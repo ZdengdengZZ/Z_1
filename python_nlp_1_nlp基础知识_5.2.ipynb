{
 "cells": [
  {
   "cell_type": "markdown",
   "id": "75308644",
   "metadata": {},
   "source": [
    "# python-5月2日-nlp基础知识与操作"
   ]
  },
  {
   "cell_type": "markdown",
   "id": "da11e0a6",
   "metadata": {},
   "source": [
    "re模块正则表达式"
   ]
  },
  {
   "cell_type": "code",
   "execution_count": 1,
   "id": "29e366ab",
   "metadata": {},
   "outputs": [],
   "source": [
    "import re"
   ]
  },
  {
   "cell_type": "code",
   "execution_count": 2,
   "id": "cbb1c3b9",
   "metadata": {},
   "outputs": [],
   "source": [
    "#将正则表达式编译为pattern对象\n",
    "pattern  = re.compile(r'hello.*\\?')#r = raw"
   ]
  },
  {
   "cell_type": "code",
   "execution_count": 3,
   "id": "a3b33ddb",
   "metadata": {},
   "outputs": [],
   "source": [
    "#使用pattren匹配文本，获得匹配结果，无法匹配返回None\n",
    "match = pattern.match('hello,zhongwentao? How are you!')"
   ]
  },
  {
   "cell_type": "code",
   "execution_count": 4,
   "id": "943e72c2",
   "metadata": {},
   "outputs": [
    {
     "data": {
      "text/plain": [
       "<re.Match object; span=(0, 18), match='hello,zhongwentao?'>"
      ]
     },
     "execution_count": 4,
     "metadata": {},
     "output_type": "execute_result"
    }
   ],
   "source": [
    "match\n",
    "#只能重头匹配"
   ]
  },
  {
   "cell_type": "code",
   "execution_count": 5,
   "id": "1f270085",
   "metadata": {},
   "outputs": [
    {
     "data": {
      "text/plain": [
       "'hello,zhongwentao?'"
      ]
     },
     "execution_count": 5,
     "metadata": {},
     "output_type": "execute_result"
    }
   ],
   "source": [
    "match.group()"
   ]
  },
  {
   "cell_type": "code",
   "execution_count": 6,
   "id": "68cf6b16",
   "metadata": {},
   "outputs": [],
   "source": [
    " regex_1 = re.compile(r\"\\d+\\,\\d*\")"
   ]
  },
  {
   "cell_type": "code",
   "execution_count": 7,
   "id": "ca5cd73f",
   "metadata": {},
   "outputs": [
    {
     "name": "stdout",
     "output_type": "stream",
     "text": [
      "m.string: hello hangxiaoyang!!!! abc\n",
      "m.re: re.compile('(\\\\w+) (\\\\w+)(?P<sign>.*) (\\\\w+)')\n",
      "m.pos: 0\n",
      "m.endpos: 26\n",
      "m.lasttindex: None\n",
      "m.group(1,2,3): ('hello', 'hangxiaoyang', '!!!!')\n",
      "m.groups(): ('hello', 'hangxiaoyang', '!!!!', 'abc')\n",
      "m.groupdict(): {'sign': '!!!!'}\n",
      "m.start(3) 18\n",
      "m.end(3) 22\n",
      "m.span(2) (6, 18)\n",
      "m.expand(r'\\2 \\1\\3) hangxiaoyang hello!!!!\n"
     ]
    }
   ],
   "source": [
    "import re\n",
    "m = re.match(r'(\\w+) (\\w+)(?P<sign>.*) (\\w+)','hello hangxiaoyang!!!! abc')\n",
    "print (\"m.string:\", m.string)\n",
    "print (\"m.re:\",m.re)\n",
    "print (\"m.pos:\",m.pos)\n",
    "print (\"m.endpos:\",m.endpos)\n",
    "print (\"m.lasttindex:\",m.lastgroup)\n",
    "print (\"m.group(1,2,3):\",m.group(1,2,3))\n",
    "print (\"m.groups():\",m.groups())\n",
    "print (\"m.groupdict():\",m.groupdict())\n",
    "print (\"m.start(3)\",m.start(3))\n",
    "print (\"m.end(3)\",m.end(3))\n",
    "print (\"m.span(2)\",m.span(2))\n",
    "print (r\"m.expand(r'\\2 \\1\\3)\",m.expand(r'\\2 \\1\\3'))"
   ]
  },
  {
   "cell_type": "markdown",
   "id": "88db2c2a",
   "metadata": {},
   "source": [
    "pattern 对象是一个编译好的正则表达式 用re.compile()进行构造"
   ]
  },
  {
   "cell_type": "code",
   "execution_count": 19,
   "id": "ccfb0ec8",
   "metadata": {},
   "outputs": [
    {
     "name": "stdout",
     "output_type": "stream",
     "text": [
      "p.pattern: (\\w+) (\\w+)(?P<sign>.*)\n",
      "p.flags: 48\n",
      "p.groups 3\n",
      "p.groupindex {'sign': 3}\n"
     ]
    }
   ],
   "source": [
    "import re\n",
    "p = re.compile(r'(\\w+) (\\w+)(?P<sign>.*)',re.DOTALL)\n",
    "\n",
    "print (\"p.pattern:\",p.pattern)\n",
    "print (\"p.flags:\",p.flags)#匹配的模式\n",
    "print (\"p.groups\",p.groups)#有多少个组\n",
    "print (\"p.groupindex\",p.groupindex)#特殊别名组是哪个"
   ]
  },
  {
   "cell_type": "markdown",
   "id": "1cd1ae67",
   "metadata": {},
   "source": [
    "search用法"
   ]
  },
  {
   "cell_type": "code",
   "execution_count": 23,
   "id": "92580b06",
   "metadata": {},
   "outputs": [
    {
     "data": {
      "text/plain": [
       "'o Hanxiaoy'"
      ]
     },
     "execution_count": 23,
     "metadata": {},
     "output_type": "execute_result"
    }
   ],
   "source": [
    "import re\n",
    "pattern = re.compile(r'o.*y')#匹配0-y\n",
    "match = pattern.search('hello Hanxiaoyang!')\n",
    "match.group()"
   ]
  },
  {
   "cell_type": "markdown",
   "id": "59d69213",
   "metadata": {},
   "source": [
    "split作用 按照能够匹配的子串将string分割返回列表做切分\n",
    "maxsplit用于指定最大分割次数，不指定将全部分割"
   ]
  },
  {
   "cell_type": "code",
   "execution_count": 27,
   "id": "95be560d",
   "metadata": {},
   "outputs": [
    {
     "data": {
      "text/plain": [
       "['one', 'two', 'three', 'four', '   ', ' sad']"
      ]
     },
     "execution_count": 27,
     "metadata": {},
     "output_type": "execute_result"
    }
   ],
   "source": [
    "import re\n",
    "p  = re.compile(r'\\d+')\n",
    "#正则表达式模式 \\d+ 的含义是匹配一个或多个数字字符。\n",
    "#\\d 表示匹配任何数字字符，\n",
    "#+ 表示匹配前面的元素一次或多次\n",
    "p.split('one1two2three3four4   132 sad')"
   ]
  },
  {
   "cell_type": "markdown",
   "id": "9917657a",
   "metadata": {},
   "source": [
    "finditer 搜索string返回每个匹配成功的结果(Match对象)的迭代器"
   ]
  },
  {
   "cell_type": "code",
   "execution_count": 40,
   "id": "184a8b76",
   "metadata": {},
   "outputs": [
    {
     "name": "stdout",
     "output_type": "stream",
     "text": [
      "1\n",
      "2\n",
      "3\n",
      "4\n",
      "132\n"
     ]
    }
   ],
   "source": [
    "import re\n",
    "p = re.compile(r'\\d+')\n",
    "for m in p.finditer('one1two2three3four4   132 sad'):\n",
    "    print(m.group())"
   ]
  },
  {
   "cell_type": "markdown",
   "id": "24505f69",
   "metadata": {},
   "source": [
    "sub 是替换 使用repl替换string每个匹配的子串 返回替换后的字符"
   ]
  },
  {
   "cell_type": "code",
   "execution_count": 58,
   "id": "d63881fd",
   "metadata": {},
   "outputs": [
    {
     "name": "stdout",
     "output_type": "stream",
     "text": [
      "Isa Y,Hellohan Iaoyang!\n",
      "('Isa Y,Hellohan Iaoyang!', 2)\n"
     ]
    }
   ],
   "source": [
    "import re\n",
    "p = re.compile(r'(\\w+) (\\w+)')\n",
    "s = 'isa y,hellohan iaoyang!'\n",
    "# p.sub(r'\\2 \\1',s)\n",
    "def fun(m):\n",
    "    return m.group(1).title()+' '+m.group(2).title()\n",
    "print(p.sub(fun,s))\n",
    "print(p.subn(fun,s))#subn可以得到返回的次数"
   ]
  },
  {
   "cell_type": "markdown",
   "id": "4e9c54ab",
   "metadata": {},
   "source": [
    "简单的爬虫与正则表达式应用\n",
    "应用：知识图谱需要依托大量的实体和关系\n",
    "用正则表达式把搜狗百科的一些词条和解释抽取出来"
   ]
  },
  {
   "cell_type": "code",
   "execution_count": 83,
   "id": "004b6d4b",
   "metadata": {},
   "outputs": [],
   "source": [
    "import requests as rq #爬虫工具库\n",
    "import re"
   ]
  },
  {
   "cell_type": "code",
   "execution_count": 84,
   "id": "2b87ab5e",
   "metadata": {},
   "outputs": [],
   "source": [
    "page = rq.get(\"https://baike.sogou.com/v209432048.htm\")"
   ]
  },
  {
   "cell_type": "code",
   "execution_count": 85,
   "id": "2ced1e98",
   "metadata": {},
   "outputs": [
    {
     "data": {
      "text/plain": [
       "200"
      ]
     },
     "execution_count": 85,
     "metadata": {},
     "output_type": "execute_result"
    }
   ],
   "source": [
    "page.status_code"
   ]
  },
  {
   "cell_type": "code",
   "execution_count": 88,
   "id": "9c38385e",
   "metadata": {},
   "outputs": [
    {
     "name": "stdout",
     "output_type": "stream",
     "text": [
      "自然语言处理 - 搜狗百科\n"
     ]
    }
   ],
   "source": [
    "import re\n",
    "\n",
    "# 定义正则表达式模式\n",
    "title_pattern = re.compile(r'<title>(.*?)</title>')\n",
    "\n",
    "# 示例 HTML 文档\n",
    "html_content = '<prefetch\"/><link href=\"//img02.sogoucdn.com\" rel=\"dns-prefetch\"/><link href=\"//img03.sogoucdn.com\" rel=\"dns-prefetch\"/><link href=\"//img04.sogoucdn.com\" rel=\"dns-prefetch\"/><title>自然语言处理 - 搜狗百科</title><link'\n",
    "\n",
    "# 在 HTML 文档中搜索匹配的内容\n",
    "match = title_pattern.search(html_content)\n",
    "\n",
    "# 如果找到匹配的内容，则输出匹配到的 title 中的文字\n",
    "if match:\n",
    "    title_text = match.group(1)\n",
    "    print(title_text)"
   ]
  },
  {
   "cell_type": "code",
   "execution_count": 89,
   "id": "2cbb8b2c",
   "metadata": {},
   "outputs": [
    {
     "name": "stdout",
     "output_type": "stream",
     "text": [
      "[]\n"
     ]
    }
   ],
   "source": [
    "content_pattern = re.compile(r'<p>(.*?)<\\\\/p>')\n",
    "comtents = content_pattern.findall(page.text)\n",
    "print(comtents)"
   ]
  },
  {
   "cell_type": "markdown",
   "id": "612b6073",
   "metadata": {},
   "source": [
    "# Python-5月3日-基本的文本串操作"
   ]
  },
  {
   "cell_type": "markdown",
   "id": "902dd69c",
   "metadata": {},
   "source": [
    "nlp中基本的文本字符出操作 中英文字符串:"
   ]
  },
  {
   "cell_type": "code",
   "execution_count": 110,
   "id": "02c19adc",
   "metadata": {},
   "outputs": [
    {
     "data": {
      "text/plain": [
       "'hello world,hello,my name is zwt!  '"
      ]
     },
     "execution_count": 110,
     "metadata": {},
     "output_type": "execute_result"
    }
   ],
   "source": [
    "#清理与替换\n",
    "en_str = \"      hello world,hello,my name is zwt!  ,  \"\n",
    "en_str.strip().lstrip().rstrip(',,')#strip去除两边的空格 lstrip左边空格 rstrip右边的逗号"
   ]
  },
  {
   "cell_type": "code",
   "execution_count": 111,
   "id": "1f62808d",
   "metadata": {},
   "outputs": [
    {
     "data": {
      "text/plain": [
       "'      hi world,hi,my name is zwt!  ,  '"
      ]
     },
     "execution_count": 111,
     "metadata": {},
     "output_type": "execute_result"
    }
   ],
   "source": [
    "#字符串替换\n",
    "en_str.replace('hello','hi')\n",
    "#用hello替换hi"
   ]
  },
  {
   "cell_type": "code",
   "execution_count": 119,
   "id": "42a5430e",
   "metadata": {},
   "outputs": [],
   "source": [
    "zh_str = ' 大家好，我叫钟文韬  '"
   ]
  },
  {
   "cell_type": "code",
   "execution_count": 120,
   "id": "cbd9e95a",
   "metadata": {},
   "outputs": [
    {
     "data": {
      "text/plain": [
       "'大家好，我叫钟文韬'"
      ]
     },
     "execution_count": 120,
     "metadata": {},
     "output_type": "execute_result"
    }
   ],
   "source": [
    "zh_str.strip().lstrip().rstrip(',')"
   ]
  },
  {
   "cell_type": "code",
   "execution_count": 121,
   "id": "d5797a17",
   "metadata": {},
   "outputs": [
    {
     "data": {
      "text/plain": [
       "' 大家好，我叫中文套  '"
      ]
     },
     "execution_count": 121,
     "metadata": {},
     "output_type": "execute_result"
    }
   ],
   "source": [
    "zh_str.replace('钟文韬','中文套')"
   ]
  },
  {
   "cell_type": "code",
   "execution_count": 126,
   "id": "186f2586",
   "metadata": {},
   "outputs": [
    {
     "data": {
      "text/plain": [
       "'，我叫钟文韬'"
      ]
     },
     "execution_count": 126,
     "metadata": {},
     "output_type": "execute_result"
    }
   ],
   "source": [
    "#删除\n",
    "zh_str.strip().replace('大家好','')"
   ]
  },
  {
   "cell_type": "code",
   "execution_count": 134,
   "id": "5d1311c1",
   "metadata": {},
   "outputs": [
    {
     "data": {
      "text/plain": [
       "'大家好'"
      ]
     },
     "execution_count": 134,
     "metadata": {},
     "output_type": "execute_result"
    }
   ],
   "source": [
    "#截取\n",
    "str1 = \"大家好,我叫中文套,吃饭没有?\"\n",
    "str1[0:3]"
   ]
  },
  {
   "cell_type": "code",
   "execution_count": 135,
   "id": "2a580440",
   "metadata": {},
   "outputs": [
    {
     "data": {
      "text/plain": [
       "'大家好'"
      ]
     },
     "execution_count": 135,
     "metadata": {},
     "output_type": "execute_result"
    }
   ],
   "source": [
    "str1[0:1+2]"
   ]
  },
  {
   "cell_type": "code",
   "execution_count": 137,
   "id": "71b32437",
   "metadata": {},
   "outputs": [
    {
     "data": {
      "text/plain": [
       "',吃饭没有?'"
      ]
     },
     "execution_count": 137,
     "metadata": {},
     "output_type": "execute_result"
    }
   ],
   "source": [
    "str1[-1-5:]#以上都是左闭右开"
   ]
  },
  {
   "cell_type": "code",
   "execution_count": 138,
   "id": "d0e01356",
   "metadata": {},
   "outputs": [
    {
     "data": {
      "text/plain": [
       "'大好我中套吃没?'"
      ]
     },
     "execution_count": 138,
     "metadata": {},
     "output_type": "execute_result"
    }
   ],
   "source": [
    "str1[::2]从头到尾 每隔2个元素"
   ]
  },
  {
   "cell_type": "code",
   "execution_count": 142,
   "id": "659ad05a",
   "metadata": {},
   "outputs": [
    {
     "data": {
      "text/plain": [
       "'?有没饭吃,套文中叫我,好家大'"
      ]
     },
     "execution_count": 142,
     "metadata": {},
     "output_type": "execute_result"
    }
   ],
   "source": [
    "str1[::-1]#反转 反着取"
   ]
  },
  {
   "cell_type": "code",
   "execution_count": 143,
   "id": "fd9543ca",
   "metadata": {},
   "outputs": [
    {
     "data": {
      "text/plain": [
       "'大家好吃没？'"
      ]
     },
     "execution_count": 143,
     "metadata": {},
     "output_type": "execute_result"
    }
   ],
   "source": [
    "#链接与分割\n",
    "str1 = \"大家好\"\n",
    "str2 = \"吃没？\"\n",
    "str1 + str2"
   ]
  },
  {
   "cell_type": "code",
   "execution_count": 147,
   "id": "2af91107",
   "metadata": {},
   "outputs": [
    {
     "data": {
      "text/plain": [
       "'哈哈哈;打打球;我是中文套;大撒大撒伟大;1'"
      ]
     },
     "execution_count": 147,
     "metadata": {},
     "output_type": "execute_result"
    }
   ],
   "source": [
    "tem_str = {\"我是中文套\", '哈哈哈', '打打球', '大撒大撒伟大', \"1\"}\n",
    "\";\".join(tem_str)"
   ]
  },
  {
   "cell_type": "code",
   "execution_count": 145,
   "id": "8ec99597",
   "metadata": {},
   "outputs": [
    {
     "data": {
      "text/plain": [
       "['我是中文套，哈哈哈，打打球，大撒大撒伟大，1']"
      ]
     },
     "execution_count": 145,
     "metadata": {},
     "output_type": "execute_result"
    }
   ],
   "source": [
    "#用split的方式切分\n",
    "tem_str = \"我是中文套，哈哈哈，打打球，大撒大撒伟大，1\"\n",
    "tem_str.split(\",\")"
   ]
  },
  {
   "cell_type": "code",
   "execution_count": 148,
   "id": "011ad182",
   "metadata": {},
   "outputs": [],
   "source": [
    "#比较与排序\n",
    "en_str = {'ABC','aCd','CdE','xYz'}"
   ]
  },
  {
   "cell_type": "code",
   "execution_count": 149,
   "id": "96bab8e2",
   "metadata": {},
   "outputs": [
    {
     "data": {
      "text/plain": [
       "['ABC', 'CdE', 'aCd', 'xYz']"
      ]
     },
     "execution_count": 149,
     "metadata": {},
     "output_type": "execute_result"
    }
   ],
   "source": [
    "sorted(en_str)#以字母序排序 不改变原list"
   ]
  },
  {
   "cell_type": "code",
   "execution_count": 150,
   "id": "7b7d47ba",
   "metadata": {},
   "outputs": [
    {
     "data": {
      "text/plain": [
       "['ABC', 'aCd', 'CdE', 'xYz']"
      ]
     },
     "execution_count": 150,
     "metadata": {},
     "output_type": "execute_result"
    }
   ],
   "source": [
    "#自定义排序方式\n",
    "def sort_fun(x):\n",
    "    return x[1].lower()#以第二个字符小写化后来排序 是自定义的\n",
    "sorted(en_str,key=sort_fun)"
   ]
  },
  {
   "cell_type": "code",
   "execution_count": 151,
   "id": "b7290e0b",
   "metadata": {},
   "outputs": [
    {
     "data": {
      "text/plain": [
       "['ABC', 'aCd', 'CdE', 'xYz']"
      ]
     },
     "execution_count": 151,
     "metadata": {},
     "output_type": "execute_result"
    }
   ],
   "source": [
    "sorted(en_str,key = lambda x:x[2].lower())#用一个匿名函数来定义排序关系"
   ]
  },
  {
   "cell_type": "code",
   "execution_count": 152,
   "id": "cb902ec8",
   "metadata": {},
   "outputs": [
    {
     "data": {
      "text/plain": [
       "14"
      ]
     },
     "execution_count": 152,
     "metadata": {},
     "output_type": "execute_result"
    }
   ],
   "source": [
    "#查找与包含 查找用index和find\n",
    "zh_str = \"我是中文套；我是这玩意；我是钟文韬；我是债务人，吃饭了\"\n",
    "zh_str.index(\"钟文韬\")"
   ]
  },
  {
   "cell_type": "code",
   "execution_count": 155,
   "id": "8bb1368e",
   "metadata": {},
   "outputs": [
    {
     "data": {
      "text/plain": [
       "3"
      ]
     },
     "execution_count": 155,
     "metadata": {},
     "output_type": "execute_result"
    }
   ],
   "source": [
    "zh_str.index(\"文\")#index必须是精确判断，必须在字符串中"
   ]
  },
  {
   "cell_type": "code",
   "execution_count": 158,
   "id": "500b773f",
   "metadata": {},
   "outputs": [
    {
     "data": {
      "text/plain": [
       "3"
      ]
     },
     "execution_count": 158,
     "metadata": {},
     "output_type": "execute_result"
    }
   ],
   "source": [
    "zh_str.find(\"文\")#find没找到会返回-1，index不会"
   ]
  },
  {
   "cell_type": "code",
   "execution_count": 161,
   "id": "d169492b",
   "metadata": {},
   "outputs": [
    {
     "data": {
      "text/plain": [
       "'hello,my name is pk'"
      ]
     },
     "execution_count": 161,
     "metadata": {},
     "output_type": "execute_result"
    }
   ],
   "source": [
    "#大小写与其他变化\n",
    "en_str = 'hello,My NamE is Pk'\n",
    "en_str.lower()#全部小写"
   ]
  },
  {
   "cell_type": "code",
   "execution_count": 162,
   "id": "596b3511",
   "metadata": {},
   "outputs": [
    {
     "data": {
      "text/plain": [
       "'HELLO,MY NAME IS PK'"
      ]
     },
     "execution_count": 162,
     "metadata": {},
     "output_type": "execute_result"
    }
   ],
   "source": [
    "en_str.upper()#全部大写"
   ]
  },
  {
   "cell_type": "code",
   "execution_count": 163,
   "id": "f0a3ee6d",
   "metadata": {},
   "outputs": [
    {
     "data": {
      "text/plain": [
       "'Hello,my name is pk'"
      ]
     },
     "execution_count": 163,
     "metadata": {},
     "output_type": "execute_result"
    }
   ],
   "source": [
    "en_str.capitalize()#只有首字母大写"
   ]
  },
  {
   "cell_type": "markdown",
   "id": "455fe52a",
   "metadata": {},
   "source": [
    "# 文本数据 字，词，term-5月4日"
   ]
  },
  {
   "cell_type": "markdown",
   "id": "1ef933f4",
   "metadata": {},
   "source": [
    "##### nlp任务\n",
    "1序列标注 分词/词性/语言标注\n",
    "2分类任务 文本分类（新闻）/情感计算\n",
    "3句子关系判断 问答（QA）/自然语言推理\n",
    "4生成式任务 机器翻译/文本摘要"
   ]
  },
  {
   "cell_type": "markdown",
   "id": "b29f1400",
   "metadata": {},
   "source": [
    "nlp应用\n",
    "搜索引擎/文本主题与标签分类/文本创作与生成/机器翻译/情感分析/舆情监控（同情感分析）/语音识别/对话机器人"
   ]
  },
  {
   "cell_type": "markdown",
   "id": "ed8e0250",
   "metadata": {},
   "source": [
    "模式匹配与正则表达式"
   ]
  },
  {
   "cell_type": "markdown",
   "id": "7fa38a89",
   "metadata": {},
   "source": [
    "# 中文文本基本任务与处理"
   ]
  },
  {
   "cell_type": "markdown",
   "id": "3a4d6e74",
   "metadata": {},
   "source": [
    "分词--主流的分词方法  \n",
    "1--基于词典匹配的分词方法（正向最大匹配法，逆向最大匹配法，双向匹配分词法）\n",
    "2--基于统计的分词方法（HMM，CRF，深度学习）\n",
    "3--主流的分词工具库 python-jieba，清华，哈工大"
   ]
  },
  {
   "cell_type": "markdown",
   "id": "ad49e69c",
   "metadata": {},
   "source": [
    "停用词与N-gram\n",
    "\n",
    "功能词及是停用词 没有用对分词 用一个词表进行过滤\n",
    "N-gram在中文叫做n元语法 判断语法顺序 基于（n-1）阶马克洛夫"
   ]
  },
  {
   "cell_type": "markdown",
   "id": "f90d8277",
   "metadata": {},
   "source": [
    "词性分析 词性标注 nlp预处理的步骤 标注形容词等"
   ]
  },
  {
   "cell_type": "markdown",
   "id": "fbb22041",
   "metadata": {},
   "source": [
    "句法依存分析，词和词之间的关系 确定句子的句法结构"
   ]
  },
  {
   "cell_type": "markdown",
   "id": "838c7407",
   "metadata": {},
   "source": [
    "命名实体识别 找到实体及标签 找到主谓宾"
   ]
  },
  {
   "cell_type": "markdown",
   "id": "dab96ec9",
   "metadata": {},
   "source": [
    "关键词抽取 对文本高度提炼 用几个词就概括文本主题"
   ]
  },
  {
   "cell_type": "markdown",
   "id": "4324aec4",
   "metadata": {},
   "source": [
    "# jieba工具库 是一个分词的工具库"
   ]
  },
  {
   "cell_type": "code",
   "execution_count": 1,
   "id": "06070853",
   "metadata": {},
   "outputs": [],
   "source": [
    "import jieba"
   ]
  },
  {
   "cell_type": "code",
   "execution_count": 2,
   "id": "53a35772",
   "metadata": {},
   "outputs": [
    {
     "name": "stderr",
     "output_type": "stream",
     "text": [
      "Building prefix dict from the default dictionary ...\n",
      "Loading model from cache C:\\Users\\Z\\AppData\\Local\\Temp\\jieba.cache\n",
      "Loading model cost 0.351 seconds.\n",
      "Prefix dict has been built successfully.\n"
     ]
    },
    {
     "name": "stdout",
     "output_type": "stream",
     "text": [
      "Full Mode:我/在家/家学/学习/自然/自然语言/语言/处理/和/人工/人工智能/智能\n"
     ]
    }
   ],
   "source": [
    "seg_list = jieba.cut(\"我在家学习自然语言处理和人工智能\",cut_all=True)\n",
    "print(\"Full Mode:\"+\"/\".join(seg_list))#全模式（用斜线来进行分割）"
   ]
  },
  {
   "cell_type": "code",
   "execution_count": 3,
   "id": "b837691c",
   "metadata": {},
   "outputs": [
    {
     "name": "stdout",
     "output_type": "stream",
     "text": [
      "Full Mode:我/在家/学习/自然语言/处理/和/人工智能\n"
     ]
    }
   ],
   "source": [
    "seg_list = jieba.cut(\"我在家学习自然语言处理和人工智能\",cut_all=False)\n",
    "print(\"Full Mode:\"+\"/\".join(seg_list))#精确模式 更高的概率（用斜线来进行分割）"
   ]
  },
  {
   "cell_type": "code",
   "execution_count": 4,
   "id": "5c99b654",
   "metadata": {},
   "outputs": [
    {
     "name": "stdout",
     "output_type": "stream",
     "text": [
      "Full Mode:我/在家/学习/自然语言/处理/和/人工智能\n"
     ]
    }
   ],
   "source": [
    "seg_list = jieba.cut(\"我在家学习自然语言处理和人工智能\")\n",
    "print(\"Full Mode:\"+\"/\".join(seg_list))#默认精准模式 更高的概率（用斜线来进行分割）"
   ]
  },
  {
   "cell_type": "code",
   "execution_count": 5,
   "id": "800ede5f",
   "metadata": {},
   "outputs": [
    {
     "name": "stdout",
     "output_type": "stream",
     "text": [
      "Full Mode:我/在家/学习/自然/语言/自然语言/处理/和/人工/智能/人工智能\n"
     ]
    }
   ],
   "source": [
    "seg_list = jieba.cut_for_search(\"我在家学习自然语言处理和人工智能\")\n",
    "print(\"Full Mode:\"+\"/\".join(seg_list))#for_search所有都会输出 更高的概率（用斜线来进行分割）"
   ]
  },
  {
   "cell_type": "code",
   "execution_count": 6,
   "id": "ca2422c0",
   "metadata": {},
   "outputs": [
    {
     "name": "stdout",
     "output_type": "stream",
     "text": [
      "['暗区', '突围', '：', '无限', '测试', '资格', 'PC', '详细', '下载', '注册', '方法', '+', '申请', '游戏', '封测', '及', '官网', '国际', '服', '进入', '教程']\n",
      "['暗区', '突围', '：', '无限', '测试', '资格', 'PC', '详细', '下载', '注册', '方法', '+', '申请', '游戏', '封测', '及', '官网', '国际', '服', '进入', '教程']\n"
     ]
    }
   ],
   "source": [
    "#可以拿到一个list\n",
    "print(jieba.lcut(\"暗区突围：无限测试资格PC详细下载注册方法+申请游戏封测及官网国际服进入教程\"))\n",
    "print(jieba.lcut_for_search(\"暗区突围：无限测试资格PC详细下载注册方法+申请游戏封测及官网国际服进入教程\"))\n"
   ]
  },
  {
   "cell_type": "code",
   "execution_count": 7,
   "id": "3e15e128",
   "metadata": {},
   "outputs": [
    {
     "name": "stdout",
     "output_type": "stream",
     "text": [
      "如果/放到/旧/字典/中将/出错/。\n"
     ]
    }
   ],
   "source": [
    "#可以自定义分词\n",
    "print('/'.join(jieba.cut('如果放到旧字典中将出错。',HMM=False)))"
   ]
  },
  {
   "cell_type": "code",
   "execution_count": 8,
   "id": "42975b94",
   "metadata": {},
   "outputs": [
    {
     "name": "stdout",
     "output_type": "stream",
     "text": [
      "如果/放到/旧/字典/中将/出错/。\n",
      "如果/放到/旧/字典/中/将/出错/。\n"
     ]
    }
   ],
   "source": [
    "print('/'.join(jieba.cut('如果放到旧字典中将出错。',HMM=False)))\n",
    "jieba.suggest_freq(('中','将'),True)\n",
    "print('/'.join(jieba.cut('如果放到旧字典中将出错。',HMM=False)))"
   ]
  },
  {
   "cell_type": "markdown",
   "id": "ea901952",
   "metadata": {},
   "source": [
    "# 词性标注 用jieba库来实现"
   ]
  },
  {
   "cell_type": "code",
   "execution_count": 9,
   "id": "fb97e7eb",
   "metadata": {},
   "outputs": [
    {
     "name": "stdout",
     "output_type": "stream",
     "text": [
      "我 r\n",
      "在 p\n",
      "网易 n\n",
      "云 ns\n",
      "课堂 n\n",
      "学习 v\n",
      "自然语言 l\n",
      "处理 v\n"
     ]
    }
   ],
   "source": [
    "import jieba.posseg as pesg\n",
    "words = pesg.cut(\"我在网易云课堂学习自然语言处理\")\n",
    "for word,flag in words:\n",
    "    print('%s %s'% (word,flag))"
   ]
  },
  {
   "cell_type": "markdown",
   "id": "1b0268cb",
   "metadata": {},
   "source": [
    "# 关键词抽取 基于TF-IDF算法的关键词抽取\n",
    "分析词汇的权重"
   ]
  },
  {
   "cell_type": "code",
   "execution_count": 18,
   "id": "1bba8858",
   "metadata": {},
   "outputs": [
    {
     "name": "stdout",
     "output_type": "stream",
     "text": [
      "暗区 突围 PC 教程 Steam Arena Breakout Infinite S4 测试 最全 科夫 国际 注册 下载 资格 吊打 最新 类塔 IGN\n"
     ]
    }
   ],
   "source": [
    "import jieba.analyse as analyse\n",
    "lines = open('1.txt', encoding='utf-8', errors='ignore').read()\n",
    "print(\" \".join(analyse.extract_tags(lines,topK=20,withWeight=False,allowPOS=())))"
   ]
  },
  {
   "cell_type": "code",
   "execution_count": 22,
   "id": "fb61d439",
   "metadata": {},
   "outputs": [
    {
     "data": {
      "text/plain": [
       "'PC端上线Steam，现已开放测试申请！ 全新多人联机免费类塔科夫游戏《暗区突围：无限 | Arena Breakout: Infinite》，【IGN】《Arena Breakout: Infinite》公布预告，暗区突围PC 首爆实机图！ 画质到底怎么样？ 竟然号称吊打塔科夫？ ，暗区突围PC端秒拿资格！ ，真能抽到？ 暗区突围PC端测试资格谁在中？ ，好好好！ 暗区突围PC真登录了Steam！ ，暗区突围国际服，S4最新最全下载/注册/中文/锁区教程！ 一个视频全搞定！ ，【暗区突围国际服】最详细的国际服注册教程来了!，【暗区突围】国际服S4赛季最新最全下载教程（安卓IOS），暗区突围PC端预约方法来了，测试开启时间是5月10号？'"
      ]
     },
     "execution_count": 22,
     "metadata": {},
     "output_type": "execute_result"
    }
   ],
   "source": [
    "lines"
   ]
  },
  {
   "cell_type": "markdown",
   "id": "fd3f3a2f",
   "metadata": {},
   "source": [
    "TF-IDF的计算方式\n",
    "根据词频来统计 排除其中的停用词 考虑其中有意义的词（排除其中的常见词）\n",
    "如果某个词比较少见，但在这篇文章中出现的次数很多，则该词反映除文章的特性，即关键词\n",
    "对权重的的文档叫做逆文档，权重大小与一个词的常见程度成反比\n",
    "\n",
    "第一步 计算词频 = 词出现次数/总词数\n",
    "第二步 逆文档频率\n",
    "最后计算TF-IDF"
   ]
  },
  {
   "cell_type": "markdown",
   "id": "e5f9122e",
   "metadata": {},
   "source": [
    "# 基于TextRank算法的关键词抽取"
   ]
  },
  {
   "cell_type": "markdown",
   "id": "9163dfe7",
   "metadata": {},
   "source": [
    "TextRank算法\n",
    "1.先进行分词\n",
    "2.以固定的窗口大小来构建 词之间共现关系，构建图（是一个无向带权图）\n"
   ]
  },
  {
   "cell_type": "code",
   "execution_count": 24,
   "id": "276a9978",
   "metadata": {},
   "outputs": [
    {
     "name": "stdout",
     "output_type": "stream",
     "text": [
      "突围 暗区 国际 教程 画质 机图 游戏 类塔 联机 锁区 视频 资格 方法\n"
     ]
    }
   ],
   "source": [
    "import jieba.analyse as analyse\n",
    "lines = open('1.txt',encoding='utf-8').read()\n",
    "print(\" \".join(analyse.textrank(lines,topK=20,withWeight=False,allowPOS=('ns','n'))))"
   ]
  },
  {
   "cell_type": "markdown",
   "id": "557df07c",
   "metadata": {},
   "source": [
    "# python中文文本分析与可视化"
   ]
  },
  {
   "cell_type": "code",
   "execution_count": 33,
   "id": "0ed34716",
   "metadata": {},
   "outputs": [],
   "source": [
    "import warnings\n",
    "warnings.filterwarnings(\"ignore\")\n",
    "import jieba\n",
    "import numpy\n",
    "import codecs\n",
    "import pandas as pd\n",
    "import matplotlib.pyplot as plt\n",
    "%matplotlib inline\n",
    "import matplotlib\n",
    "matplotlib.rcParams['figure.figsize'] = (10.0, 5.0)\n",
    "from wordcloud import WordCloud#中文词云的展示"
   ]
  },
  {
   "cell_type": "markdown",
   "id": "eb64d7f3",
   "metadata": {},
   "source": [
    "# 无资料 后补！"
   ]
  },
  {
   "cell_type": "code",
   "execution_count": null,
   "id": "08378c62",
   "metadata": {},
   "outputs": [],
   "source": []
  }
 ],
 "metadata": {
  "kernelspec": {
   "display_name": "Python [conda env:root] *",
   "language": "python",
   "name": "conda-root-py"
  },
  "language_info": {
   "codemirror_mode": {
    "name": "ipython",
    "version": 3
   },
   "file_extension": ".py",
   "mimetype": "text/x-python",
   "name": "python",
   "nbconvert_exporter": "python",
   "pygments_lexer": "ipython3",
   "version": "3.11.7"
  }
 },
 "nbformat": 4,
 "nbformat_minor": 5
}
